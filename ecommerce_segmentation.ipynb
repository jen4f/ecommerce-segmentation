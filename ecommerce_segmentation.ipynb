{
 "cells": [
  {
   "cell_type": "markdown",
   "metadata": {},
   "source": [
    "# Customer Segmentation and Discount Personalization\n",
    "\n",
    "## Introduction\n",
    "This project aims to segment customers based on their purchasing behaviour to personalize discount offers. <br>\n",
    "The dataset used is the \"Online Retail\" dataset from the UCI Machine Learning Repository. <br>\n",
    "The analysis will focus on using past behavior as the basis for segmentation."
   ]
  },
  {
   "cell_type": "markdown",
   "metadata": {},
   "source": [
    "## Data Loading and Exploration\n",
    "I will load the first 1000 rows of the dataset from the Excel file to get a sense of the data and perform and initial exploration."
   ]
  },
  {
   "cell_type": "code",
   "execution_count": 1,
   "metadata": {},
   "outputs": [
    {
     "name": "stdout",
     "output_type": "stream",
     "text": [
      "<class 'pandas.core.frame.DataFrame'>\n",
      "RangeIndex: 1000 entries, 0 to 999\n",
      "Data columns (total 8 columns):\n",
      " #   Column       Non-Null Count  Dtype         \n",
      "---  ------       --------------  -----         \n",
      " 0   InvoiceNo    1000 non-null   object        \n",
      " 1   StockCode    1000 non-null   object        \n",
      " 2   Description  999 non-null    object        \n",
      " 3   Quantity     1000 non-null   int64         \n",
      " 4   InvoiceDate  1000 non-null   datetime64[ns]\n",
      " 5   UnitPrice    1000 non-null   float64       \n",
      " 6   CustomerID   999 non-null    float64       \n",
      " 7   Country      1000 non-null   object        \n",
      "dtypes: datetime64[ns](1), float64(2), int64(1), object(4)\n",
      "memory usage: 62.6+ KB\n"
     ]
    }
   ],
   "source": [
    "import pandas as pd\n",
    "\n",
    "# Load the first 1000 rows from the Excel file\n",
    "file_path = 'Online Retail.xlsx'\n",
    "data_sample = pd.read_excel(file_path, nrows=1000)\n",
    "\n",
    "# Display the first few rows of the sample data\n",
    "data_sample.head()\n",
    "\n",
    "# Display basic information about the sample dataset\n",
    "data_sample.info()\n"
   ]
  },
  {
   "cell_type": "markdown",
   "metadata": {},
   "source": [
    "## Data Cleaning\n",
    "I will clean the dataset by handling missing vlaues and removing duplicates."
   ]
  },
  {
   "cell_type": "code",
   "execution_count": 2,
   "metadata": {},
   "outputs": [
    {
     "name": "stdout",
     "output_type": "stream",
     "text": [
      "<class 'pandas.core.frame.DataFrame'>\n",
      "Index: 976 entries, 0 to 999\n",
      "Data columns (total 8 columns):\n",
      " #   Column       Non-Null Count  Dtype         \n",
      "---  ------       --------------  -----         \n",
      " 0   InvoiceNo    976 non-null    object        \n",
      " 1   StockCode    976 non-null    object        \n",
      " 2   Description  976 non-null    object        \n",
      " 3   Quantity     976 non-null    int64         \n",
      " 4   InvoiceDate  976 non-null    datetime64[ns]\n",
      " 5   UnitPrice    976 non-null    float64       \n",
      " 6   CustomerID   976 non-null    float64       \n",
      " 7   Country      976 non-null    object        \n",
      "dtypes: datetime64[ns](1), float64(2), int64(1), object(4)\n",
      "memory usage: 68.6+ KB\n"
     ]
    }
   ],
   "source": [
    "# Remove rows with missing CustomerID\n",
    "data_clean = data_sample.dropna(subset=['CustomerID'])\n",
    "\n",
    "# Remove duplicates\n",
    "data_clean = data_clean.drop_duplicates()\n",
    "\n",
    "# Display the cleaned dataset information\n",
    "data_clean.info()\n"
   ]
  },
  {
   "cell_type": "markdown",
   "metadata": {},
   "source": [
    "## Feature Engineering\n",
    "I will create features to capture past purchasing behavior, such as total spending and number of purchases."
   ]
  },
  {
   "cell_type": "code",
   "execution_count": 4,
   "metadata": {},
   "outputs": [
    {
     "data": {
      "text/html": [
       "<div>\n",
       "<style scoped>\n",
       "    .dataframe tbody tr th:only-of-type {\n",
       "        vertical-align: middle;\n",
       "    }\n",
       "\n",
       "    .dataframe tbody tr th {\n",
       "        vertical-align: top;\n",
       "    }\n",
       "\n",
       "    .dataframe thead th {\n",
       "        text-align: right;\n",
       "    }\n",
       "</style>\n",
       "<table border=\"1\" class=\"dataframe\">\n",
       "  <thead>\n",
       "    <tr style=\"text-align: right;\">\n",
       "      <th></th>\n",
       "      <th>CustomerID</th>\n",
       "      <th>NumPurchases</th>\n",
       "      <th>TotalSpending</th>\n",
       "    </tr>\n",
       "  </thead>\n",
       "  <tbody>\n",
       "    <tr>\n",
       "      <th>0</th>\n",
       "      <td>12431.0</td>\n",
       "      <td>1</td>\n",
       "      <td>358.25</td>\n",
       "    </tr>\n",
       "    <tr>\n",
       "      <th>1</th>\n",
       "      <td>12583.0</td>\n",
       "      <td>1</td>\n",
       "      <td>855.86</td>\n",
       "    </tr>\n",
       "    <tr>\n",
       "      <th>2</th>\n",
       "      <td>12791.0</td>\n",
       "      <td>1</td>\n",
       "      <td>192.60</td>\n",
       "    </tr>\n",
       "    <tr>\n",
       "      <th>3</th>\n",
       "      <td>12838.0</td>\n",
       "      <td>1</td>\n",
       "      <td>390.79</td>\n",
       "    </tr>\n",
       "    <tr>\n",
       "      <th>4</th>\n",
       "      <td>13047.0</td>\n",
       "      <td>3</td>\n",
       "      <td>366.63</td>\n",
       "    </tr>\n",
       "  </tbody>\n",
       "</table>\n",
       "</div>"
      ],
      "text/plain": [
       "   CustomerID  NumPurchases  TotalSpending\n",
       "0     12431.0             1         358.25\n",
       "1     12583.0             1         855.86\n",
       "2     12791.0             1         192.60\n",
       "3     12838.0             1         390.79\n",
       "4     13047.0             3         366.63"
      ]
     },
     "execution_count": 4,
     "metadata": {},
     "output_type": "execute_result"
    }
   ],
   "source": [
    "# Create total spending feature\n",
    "data_clean['TotalSpending'] = data_clean['Quantity'] * data_clean['UnitPrice']\n",
    "\n",
    "# Aggregate the data to create customer-level features\n",
    "customer_features = data_clean.groupby('CustomerID').agg({\n",
    "    'InvoiceNo': 'nunique',    # Number of unique invoices\n",
    "    'TotalSpending': 'sum',    # Total spending\n",
    "}).reset_index()\n",
    "\n",
    "# Rename columns for clarity\n",
    "customer_features.columns = ['CustomerID', 'NumPurchases', 'TotalSpending']\n",
    "\n",
    "# Display the first few rows of the customer features\n",
    "customer_features.head()"
   ]
  },
  {
   "cell_type": "markdown",
   "metadata": {},
   "source": [
    "## Customer Segmentation\n",
    "I will segment customers into distinct groups based on their past purchasing behaviour"
   ]
  },
  {
   "cell_type": "code",
   "execution_count": 6,
   "metadata": {},
   "outputs": [
    {
     "data": {
      "image/png": "[encoded data removed]",
      "text/plain": [
       "<Figure size 800x500 with 1 Axes>"
      ]
     },
     "metadata": {},
     "output_type": "display_data"
    }
   ],
   "source": [
    "from sklearn.cluster import KMeans\n",
    "import matplotlib.pyplot as plt\n",
    "from sklearn.preprocessing import StandardScaler\n",
    "\n",
    "# Select features for clustering\n",
    "X = customer_features[['NumPurchases', 'TotalSpending']]\n",
    "\n",
    "# Standardize the features\n",
    "scaler = StandardScaler()\n",
    "X_scaled = scaler.fit_transform(X)\n",
    "\n",
    "# Determine the optimal number of clusters using the Elbow method\n",
    "inertia = []\n",
    "for n in range(1, 11):\n",
    "    kmeans = KMeans(n_clusters=n, random_state=42)\n",
    "    kmeans.fit(X_scaled)\n",
    "    inertia.append(kmeans.inertia_)\n",
    "\n",
    "# Plot the Elbow Method\n",
    "plt.figure(figsize=(8, 5))\n",
    "plt.plot(range(1, 11), inertia, marker = 'o')\n",
    "plt.title('Elbow Method for Optimal Number of Clusters')\n",
    "plt.xlabel('Number of Clusters')\n",
    "plt.xlabel('Inertia')\n",
    "plt.show()\n"
   ]
  },
  {
   "cell_type": "code",
   "execution_count": 7,
   "metadata": {},
   "outputs": [
    {
     "data": {
      "text/html": [
       "<div>\n",
       "<style scoped>\n",
       "    .dataframe tbody tr th:only-of-type {\n",
       "        vertical-align: middle;\n",
       "    }\n",
       "\n",
       "    .dataframe tbody tr th {\n",
       "        vertical-align: top;\n",
       "    }\n",
       "\n",
       "    .dataframe thead th {\n",
       "        text-align: right;\n",
       "    }\n",
       "</style>\n",
       "<table border=\"1\" class=\"dataframe\">\n",
       "  <thead>\n",
       "    <tr style=\"text-align: right;\">\n",
       "      <th></th>\n",
       "      <th>CustomerID</th>\n",
       "      <th>NumPurchases</th>\n",
       "      <th>TotalSpending</th>\n",
       "      <th>Cluster</th>\n",
       "    </tr>\n",
       "  </thead>\n",
       "  <tbody>\n",
       "    <tr>\n",
       "      <th>0</th>\n",
       "      <td>12431.0</td>\n",
       "      <td>1</td>\n",
       "      <td>358.25</td>\n",
       "      <td>0</td>\n",
       "    </tr>\n",
       "    <tr>\n",
       "      <th>1</th>\n",
       "      <td>12583.0</td>\n",
       "      <td>1</td>\n",
       "      <td>855.86</td>\n",
       "      <td>0</td>\n",
       "    </tr>\n",
       "    <tr>\n",
       "      <th>2</th>\n",
       "      <td>12791.0</td>\n",
       "      <td>1</td>\n",
       "      <td>192.60</td>\n",
       "      <td>0</td>\n",
       "    </tr>\n",
       "    <tr>\n",
       "      <th>3</th>\n",
       "      <td>12838.0</td>\n",
       "      <td>1</td>\n",
       "      <td>390.79</td>\n",
       "      <td>0</td>\n",
       "    </tr>\n",
       "    <tr>\n",
       "      <th>4</th>\n",
       "      <td>13047.0</td>\n",
       "      <td>3</td>\n",
       "      <td>366.63</td>\n",
       "      <td>0</td>\n",
       "    </tr>\n",
       "  </tbody>\n",
       "</table>\n",
       "</div>"
      ],
      "text/plain": [
       "   CustomerID  NumPurchases  TotalSpending  Cluster\n",
       "0     12431.0             1         358.25        0\n",
       "1     12583.0             1         855.86        0\n",
       "2     12791.0             1         192.60        0\n",
       "3     12838.0             1         390.79        0\n",
       "4     13047.0             3         366.63        0"
      ]
     },
     "execution_count": 7,
     "metadata": {},
     "output_type": "execute_result"
    }
   ],
   "source": [
    "from sklearn.cluster import KMeans\n",
    "\n",
    "# Apply K-means clustering with the chosen number of clusters\n",
    "optimal_clusters = 3 \n",
    "kmeans = KMeans(n_clusters=optimal_clusters, random_state=42)\n",
    "customer_features['Cluster'] = kmeans.fit_predict(X_scaled)\n",
    "\n",
    "# Display the first few rows of the clustered data\n",
    "customer_features.head()"
   ]
  },
  {
   "cell_type": "markdown",
   "metadata": {},
   "source": [
    "## Analyzing Clusters\n",
    "Analysing the characteristics of each cluster to understand the differences in customer behavior."
   ]
  },
  {
   "cell_type": "code",
   "execution_count": 8,
   "metadata": {},
   "outputs": [
    {
     "data": {
      "text/html": [
       "<div>\n",
       "<style scoped>\n",
       "    .dataframe tbody tr th:only-of-type {\n",
       "        vertical-align: middle;\n",
       "    }\n",
       "\n",
       "    .dataframe tbody tr th {\n",
       "        vertical-align: top;\n",
       "    }\n",
       "\n",
       "    .dataframe thead tr th {\n",
       "        text-align: left;\n",
       "    }\n",
       "</style>\n",
       "<table border=\"1\" class=\"dataframe\">\n",
       "  <thead>\n",
       "    <tr>\n",
       "      <th></th>\n",
       "      <th>Cluster</th>\n",
       "      <th colspan=\"2\" halign=\"left\">NumPurchases</th>\n",
       "      <th colspan=\"2\" halign=\"left\">TotalSpending</th>\n",
       "    </tr>\n",
       "    <tr>\n",
       "      <th></th>\n",
       "      <th></th>\n",
       "      <th>mean</th>\n",
       "      <th>std</th>\n",
       "      <th>mean</th>\n",
       "      <th>std</th>\n",
       "    </tr>\n",
       "  </thead>\n",
       "  <tbody>\n",
       "    <tr>\n",
       "      <th>0</th>\n",
       "      <td>0</td>\n",
       "      <td>1.159091</td>\n",
       "      <td>0.479495</td>\n",
       "      <td>338.804773</td>\n",
       "      <td>223.399067</td>\n",
       "    </tr>\n",
       "    <tr>\n",
       "      <th>1</th>\n",
       "      <td>1</td>\n",
       "      <td>10.000000</td>\n",
       "      <td>NaN</td>\n",
       "      <td>1499.340000</td>\n",
       "      <td>NaN</td>\n",
       "    </tr>\n",
       "    <tr>\n",
       "      <th>2</th>\n",
       "      <td>2</td>\n",
       "      <td>1.333333</td>\n",
       "      <td>0.577350</td>\n",
       "      <td>2667.533333</td>\n",
       "      <td>952.930967</td>\n",
       "    </tr>\n",
       "  </tbody>\n",
       "</table>\n",
       "</div>"
      ],
      "text/plain": [
       "  Cluster NumPurchases           TotalSpending            \n",
       "                  mean       std          mean         std\n",
       "0       0     1.159091  0.479495    338.804773  223.399067\n",
       "1       1    10.000000       NaN   1499.340000         NaN\n",
       "2       2     1.333333  0.577350   2667.533333  952.930967"
      ]
     },
     "execution_count": 8,
     "metadata": {},
     "output_type": "execute_result"
    }
   ],
   "source": [
    "# Analyze the characteristics of each cluster\n",
    "cluster_analysis = customer_features.groupby('Cluster').agg({\n",
    "    'NumPurchases': ['mean', 'std'],\n",
    "    'TotalSpending': ['mean', 'std']\n",
    "}).reset_index()\n",
    "\n",
    "# Display the cluster analysis\n",
    "cluster_analysis"
   ]
  },
  {
   "cell_type": "markdown",
   "metadata": {},
   "source": [
    "## Conclusion and Insights\n",
    "I segmented a sample of cusomers into distinct clusters based on their past purchasing behavior.\n",
    "The analyses showed three distrinct customer segments:\n",
    "- Cluster 0 show low freequency and moderate spending. They make about 1 purchase on average.\n",
    "- Cluster 1 show high frequency and high spending. They make 10 purchases on average\n",
    "- Cluster 2 show moderate frequency and high spending. They make about 1.33 purchases on average but spend the most on average.\n",
    "\n",
    "## Potential ways to target different segments\n",
    "- Cluster 0: Try to increase their purchase frequency through more frequent promotions.\n",
    "- Cluster 1: Selective discounts to encourage customers to increase average spending, and to maintain or increase their high purchase frequency.\n",
    "- Cluster 2: Selective discounts to maintain or increase their high spending, and to increase their spending frequency.\n"
   ]
  }
 ],
 "metadata": {
  "kernelspec": {
   "display_name": "ecommerce-project",
   "language": "python",
   "name": "python3"
  },
  "language_info": {
   "codemirror_mode": {
    "name": "ipython",
    "version": 3
   },
   "file_extension": ".py",
   "mimetype": "text/x-python",
   "name": "python",
   "nbconvert_exporter": "python",
   "pygments_lexer": "ipython3",
   "version": "3.10.14"
  }
 },
 "nbformat": 4,
 "nbformat_minor": 2
}
